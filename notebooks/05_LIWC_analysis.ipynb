{
 "cells": [
  {
   "cell_type": "code",
   "execution_count": 1,
   "metadata": {},
   "outputs": [
    {
     "name": "stdout",
     "output_type": "stream",
     "text": [
      "c:\\Users\\duynx\\Documents\\GitHub\\street_food_vn\n"
     ]
    }
   ],
   "source": [
    "import sys\n",
    "import os\n",
    "PATH = os.path.abspath(os.path.join(os.getcwd(), os.pardir))\n",
    "\n",
    "if PATH not in sys.path:\n",
    "    sys.path.insert(0, PATH)\n",
    "sys.path\n",
    "%cd .."
   ]
  },
  {
   "cell_type": "code",
   "execution_count": 2,
   "metadata": {},
   "outputs": [],
   "source": [
    "from src.sfivn.feature_extraction.transcript.utils import get_transcripts, to_doc\n",
    "import pandas as pd\n",
    "\n",
    "filter_data = pd.read_excel(\"./datasets/annotations/data_filter.xlsx\")\n",
    "\n",
    "filter_data = filter_data[(filter_data[\"Đã check?\"]) & (filter_data[\"OK?\"])]"
   ]
  },
  {
   "cell_type": "code",
   "execution_count": 4,
   "metadata": {},
   "outputs": [
    {
     "name": "stderr",
     "output_type": "stream",
     "text": [
      "  0%|          | 0/4 [00:00<?, ?it/s]"
     ]
    },
    {
     "name": "stderr",
     "output_type": "stream",
     "text": [
      "100%|██████████| 4/4 [00:03<00:00,  1.17it/s]\n",
      "100%|██████████| 4/4 [00:08<00:00,  2.06s/it]\n"
     ]
    }
   ],
   "source": [
    "import tqdm\n",
    "import re\n",
    "transcripts_generator = get_transcripts([re.findall(\"\\?v=(\\S+)\", link)[0] for link in filter_data[\"Link\"].to_list()])\n",
    "to_doc(transcripts_generator, \"./datasets/transcripts\")"
   ]
  },
  {
   "cell_type": "code",
   "execution_count": null,
   "metadata": {},
   "outputs": [],
   "source": []
  }
 ],
 "metadata": {
  "kernelspec": {
   "display_name": "venv",
   "language": "python",
   "name": "python3"
  },
  "language_info": {
   "codemirror_mode": {
    "name": "ipython",
    "version": 3
   },
   "file_extension": ".py",
   "mimetype": "text/x-python",
   "name": "python",
   "nbconvert_exporter": "python",
   "pygments_lexer": "ipython3",
   "version": "3.11.5"
  },
  "orig_nbformat": 4
 },
 "nbformat": 4,
 "nbformat_minor": 2
}
