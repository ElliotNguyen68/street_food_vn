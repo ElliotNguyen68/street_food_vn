{
 "cells": [
  {
   "cell_type": "code",
   "execution_count": 18,
   "metadata": {},
   "outputs": [],
   "source": [
    "from youtubesearchpython import VideosSearch\n",
    "from loguru import logger\n",
    "import json"
   ]
  },
  {
   "cell_type": "code",
   "execution_count": 7,
   "metadata": {},
   "outputs": [],
   "source": [
    "words=[]\n",
    "with open('../metadata/streetfood_keyword.txt','r') as f:\n",
    "    for x in f:\n",
    "        words.append(x.replace('\\n',''))"
   ]
  },
  {
   "cell_type": "code",
   "execution_count": 8,
   "metadata": {},
   "outputs": [],
   "source": [
    "n_video_per_video=200"
   ]
  },
  {
   "cell_type": "code",
   "execution_count": 12,
   "metadata": {},
   "outputs": [],
   "source": [
    "full_result={}\n",
    "# full_links=[]\n",
    "# full_result={}\n",
    "full_links=[]"
   ]
  },
  {
   "cell_type": "code",
   "execution_count": 13,
   "metadata": {},
   "outputs": [],
   "source": [
    "for keyword in words:\n",
    "    try:\n",
    "        videosSearch = VideosSearch(keyword, limit = n_video_per_video)\n",
    "        query_result=videosSearch.result()\n",
    "        full_result[keyword]=query_result\n",
    "        for i in range(min(n_video_per_video,len(query_result['result']))):\n",
    "            full_links.append(query_result['result'][i]['link'])\n",
    "    except Exception as e:\n",
    "        logger.debug(e)\n",
    "        logger.info('current_index: {}'.format(i))\n"
   ]
  },
  {
   "cell_type": "code",
   "execution_count": 14,
   "metadata": {},
   "outputs": [],
   "source": [
    "with open('../data/raw_url.txt','r+') as f:\n",
    "    all_url_previos=[x.replace('\\n','') for x in f]\n",
    "    current_list=full_links\n",
    "    append_list=set(full_links).difference(all_url_previos)\n",
    "    \n",
    "    for link in append_list:\n",
    "        f.write(link)\n",
    "        f.write('\\n')"
   ]
  },
  {
   "cell_type": "markdown",
   "metadata": {},
   "source": [
    "# Loop"
   ]
  },
  {
   "cell_type": "code",
   "execution_count": 21,
   "metadata": {},
   "outputs": [],
   "source": [
    "full_result={}\n",
    "# full_links=[]\n",
    "# full_result={}\n",
    "full_links=[]"
   ]
  },
  {
   "cell_type": "code",
   "execution_count": 22,
   "metadata": {},
   "outputs": [],
   "source": [
    "while len(full_links)<6000:\n",
    "    for keyword in words:\n",
    "        try:\n",
    "            videosSearch = VideosSearch(keyword, limit = n_video_per_video)\n",
    "            query_result=videosSearch.result()\n",
    "            # full_result[keyword]=query_result\n",
    "            for i in range(min(n_video_per_video,len(query_result['result']))):\n",
    "                link=query_result['result'][i]['link']\n",
    "                if link not in full_links:\n",
    "                    full_links.append(query_result['result'][i]['link'])\n",
    "                    if keyword not in full_result.keys():\n",
    "                        full_result[keyword]=[]\n",
    "                    full_result[keyword].append(query_result['result'][i])\n",
    "        except Exception as e:\n",
    "            logger.debug(e)\n",
    "            logger.info('current_index: {}'.format(i))\n",
    "\n",
    "    with open('../data/raw_url.txt','r+') as f:\n",
    "        all_url_previos=[x.replace('\\n','') for x in f]\n",
    "        current_list=full_links\n",
    "        append_list=set(full_links).difference(all_url_previos)\n",
    "    \n",
    "        for link in append_list:\n",
    "            f.write(link)\n",
    "            f.write('\\n')\n",
    "    \n",
    "    with open('../data/video_url_metadata.json','w')as f_url_meta:\n",
    "        json.dump(full_result,f_url_meta)\n"
   ]
  },
  {
   "cell_type": "code",
   "execution_count": null,
   "metadata": {},
   "outputs": [],
   "source": []
  }
 ],
 "metadata": {
  "kernelspec": {
   "display_name": "Python 3.8.10 ('env': venv)",
   "language": "python",
   "name": "python3"
  },
  "language_info": {
   "codemirror_mode": {
    "name": "ipython",
    "version": 3
   },
   "file_extension": ".py",
   "mimetype": "text/x-python",
   "name": "python",
   "nbconvert_exporter": "python",
   "pygments_lexer": "ipython3",
   "version": "3.8.10"
  },
  "orig_nbformat": 4,
  "vscode": {
   "interpreter": {
    "hash": "ad02d7e620237221ded942cfaaeff3f220688a1364709eb89e87f70df9b70a0a"
   }
  }
 },
 "nbformat": 4,
 "nbformat_minor": 2
}
