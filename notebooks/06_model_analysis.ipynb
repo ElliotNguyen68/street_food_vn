{
 "cells": [
  {
   "cell_type": "code",
   "execution_count": 1,
   "metadata": {},
   "outputs": [],
   "source": [
    "import pandas as pd"
   ]
  },
  {
   "cell_type": "code",
   "execution_count": 2,
   "metadata": {},
   "outputs": [],
   "source": [
    "baseline=0.82747"
   ]
  },
  {
   "cell_type": "code",
   "execution_count": 3,
   "metadata": {},
   "outputs": [],
   "source": [
    "df=pd.read_excel(\n",
    "    \"/Users/loc_nguyen/Downloads/Book2.xlsx\",sheet_name='original'\n",
    ")\n",
    "df.columns=[\n",
    "    'model',\n",
    "    'agg',\n",
    "    'audio',\n",
    "    'scene',\n",
    "    'place',\n",
    "    'object',\n",
    "    'liwc'\n",
    "]\n",
    "df['baseline']=baseline"
   ]
  },
  {
   "cell_type": "code",
   "execution_count": 4,
   "metadata": {},
   "outputs": [
    {
     "data": {
      "text/html": [
       "<div>\n",
       "<style scoped>\n",
       "    .dataframe tbody tr th:only-of-type {\n",
       "        vertical-align: middle;\n",
       "    }\n",
       "\n",
       "    .dataframe tbody tr th {\n",
       "        vertical-align: top;\n",
       "    }\n",
       "\n",
       "    .dataframe thead th {\n",
       "        text-align: right;\n",
       "    }\n",
       "</style>\n",
       "<table border=\"1\" class=\"dataframe\">\n",
       "  <thead>\n",
       "    <tr style=\"text-align: right;\">\n",
       "      <th></th>\n",
       "      <th>model</th>\n",
       "      <th>agg</th>\n",
       "      <th>audio</th>\n",
       "      <th>scene</th>\n",
       "      <th>place</th>\n",
       "      <th>object</th>\n",
       "      <th>liwc</th>\n",
       "      <th>baseline</th>\n",
       "    </tr>\n",
       "  </thead>\n",
       "  <tbody>\n",
       "    <tr>\n",
       "      <th>0</th>\n",
       "      <td>rf</td>\n",
       "      <td>TB</td>\n",
       "      <td>0.82296</td>\n",
       "      <td>0.82840</td>\n",
       "      <td>0.82295</td>\n",
       "      <td>0.82468</td>\n",
       "      <td>0.827340</td>\n",
       "      <td>0.82747</td>\n",
       "    </tr>\n",
       "    <tr>\n",
       "      <th>1</th>\n",
       "      <td>rf</td>\n",
       "      <td>S</td>\n",
       "      <td>0.82601</td>\n",
       "      <td>0.82999</td>\n",
       "      <td>0.82800</td>\n",
       "      <td>0.82787</td>\n",
       "      <td>0.827207</td>\n",
       "      <td>0.82747</td>\n",
       "    </tr>\n",
       "    <tr>\n",
       "      <th>2</th>\n",
       "      <td>lr</td>\n",
       "      <td>F</td>\n",
       "      <td>0.82747</td>\n",
       "      <td>0.82721</td>\n",
       "      <td>0.82761</td>\n",
       "      <td>0.82880</td>\n",
       "      <td>0.815130</td>\n",
       "      <td>0.82747</td>\n",
       "    </tr>\n",
       "    <tr>\n",
       "      <th>3</th>\n",
       "      <td>lr</td>\n",
       "      <td>TB</td>\n",
       "      <td>0.82747</td>\n",
       "      <td>0.82747</td>\n",
       "      <td>0.78698</td>\n",
       "      <td>0.82747</td>\n",
       "      <td>0.824150</td>\n",
       "      <td>0.82747</td>\n",
       "    </tr>\n",
       "    <tr>\n",
       "      <th>4</th>\n",
       "      <td>lr</td>\n",
       "      <td>S</td>\n",
       "      <td>0.82721</td>\n",
       "      <td>0.82747</td>\n",
       "      <td>0.82867</td>\n",
       "      <td>0.79245</td>\n",
       "      <td>0.819507</td>\n",
       "      <td>0.82747</td>\n",
       "    </tr>\n",
       "    <tr>\n",
       "      <th>5</th>\n",
       "      <td>kn</td>\n",
       "      <td>F</td>\n",
       "      <td>0.82747</td>\n",
       "      <td>0.82694</td>\n",
       "      <td>0.82734</td>\n",
       "      <td>0.82641</td>\n",
       "      <td>0.827470</td>\n",
       "      <td>0.82747</td>\n",
       "    </tr>\n",
       "    <tr>\n",
       "      <th>6</th>\n",
       "      <td>kn</td>\n",
       "      <td>TB</td>\n",
       "      <td>0.82734</td>\n",
       "      <td>0.82707</td>\n",
       "      <td>0.82747</td>\n",
       "      <td>0.82721</td>\n",
       "      <td>0.827470</td>\n",
       "      <td>0.82747</td>\n",
       "    </tr>\n",
       "    <tr>\n",
       "      <th>7</th>\n",
       "      <td>kn</td>\n",
       "      <td>S</td>\n",
       "      <td>0.81885</td>\n",
       "      <td>0.82760</td>\n",
       "      <td>0.82747</td>\n",
       "      <td>0.82575</td>\n",
       "      <td>0.827870</td>\n",
       "      <td>0.82747</td>\n",
       "    </tr>\n",
       "  </tbody>\n",
       "</table>\n",
       "</div>"
      ],
      "text/plain": [
       "  model agg    audio    scene    place   object      liwc  baseline\n",
       "0    rf  TB  0.82296  0.82840  0.82295  0.82468  0.827340   0.82747\n",
       "1    rf   S  0.82601  0.82999  0.82800  0.82787  0.827207   0.82747\n",
       "2    lr   F  0.82747  0.82721  0.82761  0.82880  0.815130   0.82747\n",
       "3    lr  TB  0.82747  0.82747  0.78698  0.82747  0.824150   0.82747\n",
       "4    lr   S  0.82721  0.82747  0.82867  0.79245  0.819507   0.82747\n",
       "5    kn   F  0.82747  0.82694  0.82734  0.82641  0.827470   0.82747\n",
       "6    kn  TB  0.82734  0.82707  0.82747  0.82721  0.827470   0.82747\n",
       "7    kn   S  0.81885  0.82760  0.82747  0.82575  0.827870   0.82747"
      ]
     },
     "execution_count": 4,
     "metadata": {},
     "output_type": "execute_result"
    }
   ],
   "source": [
    "df"
   ]
  },
  {
   "cell_type": "code",
   "execution_count": 45,
   "metadata": {},
   "outputs": [],
   "source": [
    "def uplift_base_line(\n",
    "    val,\n",
    "    baseline\n",
    "):\n",
    "    return (val-baseline)/baseline\n"
   ]
  },
  {
   "cell_type": "code",
   "execution_count": 34,
   "metadata": {},
   "outputs": [
    {
     "data": {
      "text/plain": [
       "uplift_liwc     -0.003568\n",
       "uplift_scene     0.000361\n",
       "uplift_place    -0.006536\n",
       "uplift_object   -0.005910\n",
       "uplift_audio    -0.002263\n",
       "dtype: float64"
      ]
     },
     "execution_count": 34,
     "metadata": {},
     "output_type": "execute_result"
    }
   ],
   "source": [
    "df.assign(\n",
    "    uplift_scene=lambda x:x.apply(\n",
    "        lambda y: uplift_base_line(y.scene,y.baseline),axis=1\n",
    "    )\n",
    ").assign(\n",
    "    uplift_audio=lambda x:x.apply(\n",
    "        lambda y: uplift_base_line(y.audio,y.baseline),axis=1\n",
    "    )\n",
    ").assign(\n",
    "    uplift_object=lambda x:x.apply(\n",
    "        lambda y: uplift_base_line(y.object,y.baseline),axis=1\n",
    "    )\n",
    ").assign(\n",
    "    uplift_place=lambda x:x.apply(\n",
    "        lambda y: uplift_base_line(y.place,y.baseline),axis=1\n",
    "    )\n",
    ").assign(\n",
    "    uplift_liwc=lambda x:x.apply(\n",
    "        lambda y: uplift_base_line(y.liwc,y.baseline),axis=1\n",
    "    )\n",
    ")[['uplift_liwc','uplift_scene','uplift_place','uplift_object','uplift_audio']].mean()"
   ]
  },
  {
   "cell_type": "code",
   "execution_count": 47,
   "metadata": {},
   "outputs": [],
   "source": []
  },
  {
   "cell_type": "code",
   "execution_count": 65,
   "metadata": {},
   "outputs": [
    {
     "data": {
      "text/plain": [
       "model\n",
       "kn   -0.000993\n",
       "lr   -0.007814\n",
       "rf   -0.001123\n",
       "dtype: float64"
      ]
     },
     "execution_count": 65,
     "metadata": {},
     "output_type": "execute_result"
    }
   ],
   "source": [
    "val=df.pivot_table(\n",
    "    index='model',\n",
    "    aggfunc='mean',\n",
    "    values=['audio','object','scene','place','liwc']\n",
    ").mean(axis=1)\n",
    "(val-baseline)/baseline"
   ]
  },
  {
   "cell_type": "code",
   "execution_count": 73,
   "metadata": {},
   "outputs": [
    {
     "data": {
      "text/plain": [
       "agg\n",
       "F    -0.001634\n",
       "S    -0.001362\n",
       "TB   -0.002244\n",
       "dtype: float64"
      ]
     },
     "execution_count": 73,
     "metadata": {},
     "output_type": "execute_result"
    }
   ],
   "source": [
    "val=df.pivot_table(\n",
    "    index='agg',\n",
    "    aggfunc='mean',\n",
    "    values=['audio','object','scene','place','liwc']\n",
    ").mean(axis=1)\n",
    "(val-baseline)/baseline"
   ]
  },
  {
   "cell_type": "code",
   "execution_count": 70,
   "metadata": {},
   "outputs": [],
   "source": [
    "df=pd.read_excel(\n",
    "    \"/Users/loc_nguyen/Downloads/Book2.xlsx\",sheet_name='top10'\n",
    ")\n",
    "df.columns=[\n",
    "    'model',\n",
    "    'agg',\n",
    "    'audio',\n",
    "    'scene',\n",
    "    'place',\n",
    "    'object',\n",
    "    'liwc'\n",
    "]\n",
    "df['baseline']=baseline"
   ]
  },
  {
   "cell_type": "code",
   "execution_count": 71,
   "metadata": {},
   "outputs": [
    {
     "data": {
      "text/plain": [
       "uplift_liwc     -0.005001\n",
       "uplift_scene     0.000128\n",
       "uplift_place    -0.000865\n",
       "uplift_object   -0.002405\n",
       "uplift_audio    -0.000703\n",
       "dtype: float64"
      ]
     },
     "execution_count": 71,
     "metadata": {},
     "output_type": "execute_result"
    }
   ],
   "source": [
    "df.assign(\n",
    "    uplift_scene=lambda x:x.apply(\n",
    "        lambda y: uplift_base_line(y.scene,y.baseline),axis=1\n",
    "    )\n",
    ").assign(\n",
    "    uplift_audio=lambda x:x.apply(\n",
    "        lambda y: uplift_base_line(y.audio,y.baseline),axis=1\n",
    "    )\n",
    ").assign(\n",
    "    uplift_object=lambda x:x.apply(\n",
    "        lambda y: uplift_base_line(y.object,y.baseline),axis=1\n",
    "    )\n",
    ").assign(\n",
    "    uplift_place=lambda x:x.apply(\n",
    "        lambda y: uplift_base_line(y.place,y.baseline),axis=1\n",
    "    )\n",
    ").assign(\n",
    "    uplift_liwc=lambda x:x.apply(\n",
    "        lambda y: uplift_base_line(y.liwc,y.baseline),axis=1\n",
    "    )\n",
    ")[['uplift_liwc','uplift_scene','uplift_place','uplift_object','uplift_audio']].mean()"
   ]
  },
  {
   "cell_type": "code",
   "execution_count": 72,
   "metadata": {},
   "outputs": [
    {
     "data": {
      "text/plain": [
       "model\n",
       "lr   -0.002360\n",
       "rf   -0.000882\n",
       "dtype: float64"
      ]
     },
     "execution_count": 72,
     "metadata": {},
     "output_type": "execute_result"
    }
   ],
   "source": [
    "val=df.pivot_table(\n",
    "    index='model',\n",
    "    aggfunc='mean',\n",
    "    values=['audio','object','scene','place','liwc']\n",
    ").mean(axis=1)\n",
    "(val-baseline)/baseline"
   ]
  },
  {
   "cell_type": "code",
   "execution_count": 74,
   "metadata": {},
   "outputs": [
    {
     "data": {
      "text/plain": [
       "agg\n",
       "F    -0.001634\n",
       "S    -0.001362\n",
       "TB   -0.002244\n",
       "dtype: float64"
      ]
     },
     "execution_count": 74,
     "metadata": {},
     "output_type": "execute_result"
    }
   ],
   "source": [
    "val=df.pivot_table(\n",
    "    index='agg',\n",
    "    aggfunc='mean',\n",
    "    values=['audio','object','scene','place','liwc']\n",
    ").mean(axis=1)\n",
    "(val-baseline)/baseline"
   ]
  },
  {
   "cell_type": "code",
   "execution_count": 78,
   "metadata": {},
   "outputs": [],
   "source": [
    "baseline=0.5"
   ]
  },
  {
   "cell_type": "code",
   "execution_count": 79,
   "metadata": {},
   "outputs": [],
   "source": [
    "df=pd.read_excel(\n",
    "    \"/Users/loc_nguyen/Downloads/Book2.xlsx\",sheet_name='under_sampling'\n",
    ")\n",
    "df.columns=[\n",
    "    'model',\n",
    "    'agg',\n",
    "    'audio',\n",
    "    'scene',\n",
    "    'place',\n",
    "    'object',\n",
    "    'liwc'\n",
    "]\n",
    "df['baseline']=baseline"
   ]
  },
  {
   "cell_type": "code",
   "execution_count": 80,
   "metadata": {},
   "outputs": [
    {
     "data": {
      "text/plain": [
       "uplift_liwc      0.284712\n",
       "uplift_scene     0.235192\n",
       "uplift_place     0.186540\n",
       "uplift_object    0.207210\n",
       "uplift_audio     0.239618\n",
       "dtype: float64"
      ]
     },
     "execution_count": 80,
     "metadata": {},
     "output_type": "execute_result"
    }
   ],
   "source": [
    "df.assign(\n",
    "    uplift_scene=lambda x:x.apply(\n",
    "        lambda y: uplift_base_line(y.scene,y.baseline),axis=1\n",
    "    )\n",
    ").assign(\n",
    "    uplift_audio=lambda x:x.apply(\n",
    "        lambda y: uplift_base_line(y.audio,y.baseline),axis=1\n",
    "    )\n",
    ").assign(\n",
    "    uplift_object=lambda x:x.apply(\n",
    "        lambda y: uplift_base_line(y.object,y.baseline),axis=1\n",
    "    )\n",
    ").assign(\n",
    "    uplift_place=lambda x:x.apply(\n",
    "        lambda y: uplift_base_line(y.place,y.baseline),axis=1\n",
    "    )\n",
    ").assign(\n",
    "    uplift_liwc=lambda x:x.apply(\n",
    "        lambda y: uplift_base_line(y.liwc,y.baseline),axis=1\n",
    "    )\n",
    ")[['uplift_liwc','uplift_scene','uplift_place','uplift_object','uplift_audio']].mean()"
   ]
  },
  {
   "cell_type": "code",
   "execution_count": 81,
   "metadata": {},
   "outputs": [
    {
     "data": {
      "text/plain": [
       "model\n",
       "kn    0.229591\n",
       "lr    0.208615\n",
       "rf    0.265309\n",
       "dtype: float64"
      ]
     },
     "execution_count": 81,
     "metadata": {},
     "output_type": "execute_result"
    }
   ],
   "source": [
    "val=df.pivot_table(\n",
    "    index='model',\n",
    "    aggfunc='mean',\n",
    "    values=['audio','object','scene','place','liwc']\n",
    ").mean(axis=1)\n",
    "(val-baseline)/baseline"
   ]
  },
  {
   "cell_type": "code",
   "execution_count": null,
   "metadata": {},
   "outputs": [],
   "source": []
  },
  {
   "cell_type": "code",
   "execution_count": 82,
   "metadata": {},
   "outputs": [
    {
     "data": {
      "text/plain": [
       "agg\n",
       "F     0.244614\n",
       "S     0.213847\n",
       "TB    0.238155\n",
       "dtype: float64"
      ]
     },
     "execution_count": 82,
     "metadata": {},
     "output_type": "execute_result"
    }
   ],
   "source": [
    "val=df.pivot_table(\n",
    "    index='agg',\n",
    "    aggfunc='mean',\n",
    "    values=['audio','object','scene','place','liwc']\n",
    ").mean(axis=1)\n",
    "(val-baseline)/baseline"
   ]
  },
  {
   "cell_type": "code",
   "execution_count": 83,
   "metadata": {},
   "outputs": [],
   "source": [
    "df=pd.read_excel(\n",
    "    \"/Users/loc_nguyen/Downloads/Book2.xlsx\",sheet_name='over_sampling'\n",
    ")\n",
    "df.columns=[\n",
    "    'model',\n",
    "    'agg',\n",
    "    'audio',\n",
    "    'scene',\n",
    "    'place',\n",
    "    'object',\n",
    "    'liwc'\n",
    "]\n",
    "df['baseline']=baseline"
   ]
  },
  {
   "cell_type": "code",
   "execution_count": 84,
   "metadata": {},
   "outputs": [
    {
     "data": {
      "text/plain": [
       "uplift_liwc      0.285690\n",
       "uplift_scene     0.212237\n",
       "uplift_place     0.170433\n",
       "uplift_object    0.227025\n",
       "uplift_audio     0.235040\n",
       "dtype: float64"
      ]
     },
     "execution_count": 84,
     "metadata": {},
     "output_type": "execute_result"
    }
   ],
   "source": [
    "df.assign(\n",
    "    uplift_scene=lambda x:x.apply(\n",
    "        lambda y: uplift_base_line(y.scene,y.baseline),axis=1\n",
    "    )\n",
    ").assign(\n",
    "    uplift_audio=lambda x:x.apply(\n",
    "        lambda y: uplift_base_line(y.audio,y.baseline),axis=1\n",
    "    )\n",
    ").assign(\n",
    "    uplift_object=lambda x:x.apply(\n",
    "        lambda y: uplift_base_line(y.object,y.baseline),axis=1\n",
    "    )\n",
    ").assign(\n",
    "    uplift_place=lambda x:x.apply(\n",
    "        lambda y: uplift_base_line(y.place,y.baseline),axis=1\n",
    "    )\n",
    ").assign(\n",
    "    uplift_liwc=lambda x:x.apply(\n",
    "        lambda y: uplift_base_line(y.liwc,y.baseline),axis=1\n",
    "    )\n",
    ")[['uplift_liwc','uplift_scene','uplift_place','uplift_object','uplift_audio']].mean()"
   ]
  },
  {
   "cell_type": "code",
   "execution_count": 85,
   "metadata": {},
   "outputs": [
    {
     "data": {
      "text/plain": [
       "model\n",
       "kn    0.219652\n",
       "lr    0.236879\n",
       "rf    0.219544\n",
       "dtype: float64"
      ]
     },
     "execution_count": 85,
     "metadata": {},
     "output_type": "execute_result"
    }
   ],
   "source": [
    "val=df.pivot_table(\n",
    "    index='model',\n",
    "    aggfunc='mean',\n",
    "    values=['audio','object','scene','place','liwc']\n",
    ").mean(axis=1)\n",
    "(val-baseline)/baseline"
   ]
  },
  {
   "cell_type": "code",
   "execution_count": 86,
   "metadata": {},
   "outputs": [
    {
     "data": {
      "text/plain": [
       "agg\n",
       "F     0.251578\n",
       "S     0.228691\n",
       "TB    0.206484\n",
       "dtype: float64"
      ]
     },
     "execution_count": 86,
     "metadata": {},
     "output_type": "execute_result"
    }
   ],
   "source": [
    "val=df.pivot_table(\n",
    "    index='agg',\n",
    "    aggfunc='mean',\n",
    "    values=['audio','object','scene','place','liwc']\n",
    ").mean(axis=1)\n",
    "(val-baseline)/baseline"
   ]
  },
  {
   "cell_type": "code",
   "execution_count": 89,
   "metadata": {},
   "outputs": [],
   "source": [
    "def analysis(type='original'):\n",
    "    if type in ['original','top10']:\n",
    "        baseline=0.82747\n",
    "    else:\n",
    "         baseline=.5\n",
    "    df=pd.read_excel(\n",
    "    \"/Users/loc_nguyen/Downloads/Book2.xlsx\",sheet_name='{}'.format(type)\n",
    "    )\n",
    "    df.columns=[\n",
    "        'model',\n",
    "        'agg',\n",
    "        'audio',\n",
    "        'scene',\n",
    "        'place',\n",
    "        'object',\n",
    "        'liwc'\n",
    "    ]\n",
    "    df['baseline']=baseline\n",
    "    \n",
    "    uplift_feature=df.assign(\n",
    "        uplift_scene=lambda x:x.apply(\n",
    "            lambda y: uplift_base_line(y.scene,y.baseline),axis=1\n",
    "        )\n",
    "    ).assign(\n",
    "        uplift_audio=lambda x:x.apply(\n",
    "            lambda y: uplift_base_line(y.audio,y.baseline),axis=1\n",
    "        )\n",
    "    ).assign(\n",
    "        uplift_object=lambda x:x.apply(\n",
    "            lambda y: uplift_base_line(y.object,y.baseline),axis=1\n",
    "        )\n",
    "    ).assign(\n",
    "        uplift_place=lambda x:x.apply(\n",
    "            lambda y: uplift_base_line(y.place,y.baseline),axis=1\n",
    "        )\n",
    "    ).assign(\n",
    "        uplift_liwc=lambda x:x.apply(\n",
    "            lambda y: uplift_base_line(y.liwc,y.baseline),axis=1\n",
    "        )\n",
    "    )[['uplift_liwc','uplift_scene','uplift_place','uplift_object','uplift_audio']].mean()\n",
    "    \n",
    "    val_model=df.pivot_table(\n",
    "        index='model',\n",
    "        aggfunc='mean',\n",
    "        values=['audio','object','scene','place','liwc']\n",
    "    ).mean(axis=1)\n",
    "    uplift_model=(val_model-baseline)/baseline\n",
    "    \n",
    "    val_agg=df.pivot_table(\n",
    "        index='agg',\n",
    "        aggfunc='mean',\n",
    "        values=['audio','object','scene','place','liwc']\n",
    "    ).mean(axis=1)\n",
    "    uplift_agg=(val_agg-baseline)/baseline\n",
    "    \n",
    "    return  uplift_feature,uplift_model,uplift_agg\n",
    "        "
   ]
  },
  {
   "cell_type": "code",
   "execution_count": 93,
   "metadata": {},
   "outputs": [
    {
     "data": {
      "text/plain": [
       "(uplift_liwc     -0.003568\n",
       " uplift_scene     0.000361\n",
       " uplift_place    -0.006536\n",
       " uplift_object   -0.005910\n",
       " uplift_audio    -0.002263\n",
       " dtype: float64,\n",
       " model\n",
       " kn   -0.000993\n",
       " lr   -0.007814\n",
       " rf   -0.001123\n",
       " dtype: float64,\n",
       " agg\n",
       " F    -0.001553\n",
       " S    -0.004038\n",
       " TB   -0.004481\n",
       " dtype: float64)"
      ]
     },
     "execution_count": 93,
     "metadata": {},
     "output_type": "execute_result"
    }
   ],
   "source": [
    "analysis('original')"
   ]
  },
  {
   "cell_type": "code",
   "execution_count": 94,
   "metadata": {},
   "outputs": [
    {
     "data": {
      "text/plain": [
       "(uplift_liwc     -0.005001\n",
       " uplift_scene     0.000128\n",
       " uplift_place    -0.000865\n",
       " uplift_object   -0.002405\n",
       " uplift_audio    -0.000703\n",
       " dtype: float64,\n",
       " model\n",
       " lr   -0.002360\n",
       " rf   -0.000882\n",
       " dtype: float64,\n",
       " agg\n",
       " F    -0.001634\n",
       " S    -0.001362\n",
       " TB   -0.002244\n",
       " dtype: float64)"
      ]
     },
     "execution_count": 94,
     "metadata": {},
     "output_type": "execute_result"
    }
   ],
   "source": [
    "analysis('top10')"
   ]
  },
  {
   "cell_type": "code",
   "execution_count": 91,
   "metadata": {},
   "outputs": [
    {
     "data": {
      "text/plain": [
       "(uplift_liwc      0.284712\n",
       " uplift_scene     0.235192\n",
       " uplift_place     0.186540\n",
       " uplift_object    0.207210\n",
       " uplift_audio     0.239618\n",
       " dtype: float64,\n",
       " model\n",
       " kn    0.229591\n",
       " lr    0.208615\n",
       " rf    0.265309\n",
       " dtype: float64,\n",
       " agg\n",
       " F     0.244614\n",
       " S     0.213847\n",
       " TB    0.238155\n",
       " dtype: float64)"
      ]
     },
     "execution_count": 91,
     "metadata": {},
     "output_type": "execute_result"
    }
   ],
   "source": [
    "analysis('under_sampling')"
   ]
  },
  {
   "cell_type": "code",
   "execution_count": 92,
   "metadata": {},
   "outputs": [
    {
     "data": {
      "text/plain": [
       "(uplift_liwc      0.285690\n",
       " uplift_scene     0.212237\n",
       " uplift_place     0.170433\n",
       " uplift_object    0.227025\n",
       " uplift_audio     0.235040\n",
       " dtype: float64,\n",
       " model\n",
       " kn    0.219652\n",
       " lr    0.236879\n",
       " rf    0.219544\n",
       " dtype: float64,\n",
       " agg\n",
       " F     0.251578\n",
       " S     0.228691\n",
       " TB    0.206484\n",
       " dtype: float64)"
      ]
     },
     "execution_count": 92,
     "metadata": {},
     "output_type": "execute_result"
    }
   ],
   "source": [
    "analysis('over_sampling')"
   ]
  },
  {
   "cell_type": "code",
   "execution_count": 114,
   "metadata": {},
   "outputs": [],
   "source": [
    "df1=pd.read_excel(\n",
    "    \"/Users/loc_nguyen/Downloads/Book2.xlsx\",sheet_name='original'\n",
    ")\n",
    "df1.columns=[\n",
    "    'model',\n",
    "    'agg',\n",
    "    'audio',\n",
    "    'scene',\n",
    "    'place',\n",
    "    'object',\n",
    "    'liwc'\n",
    "]\n",
    "df1['baseline']=0.82747\n",
    "df1['resample']=False"
   ]
  },
  {
   "cell_type": "code",
   "execution_count": 115,
   "metadata": {},
   "outputs": [],
   "source": [
    "df2=pd.read_excel(\n",
    "    \"/Users/loc_nguyen/Downloads/Book2.xlsx\",sheet_name='top10'\n",
    ")\n",
    "df2.columns=[\n",
    "    'model',\n",
    "    'agg',\n",
    "    'audio',\n",
    "    'scene',\n",
    "    'place',\n",
    "    'object',\n",
    "    'liwc'\n",
    "]\n",
    "df2['baseline']=baseline\n",
    "df2['resample']=False"
   ]
  },
  {
   "cell_type": "code",
   "execution_count": 5,
   "metadata": {},
   "outputs": [],
   "source": [
    "df3=pd.read_excel(\n",
    "    \"/Users/loc_nguyen/Downloads/Book2.xlsx\",sheet_name='over_sampling'\n",
    ")\n",
    "df3.columns=[\n",
    "    'model',\n",
    "    'agg',\n",
    "    'audio',\n",
    "    'scene',\n",
    "    'place',\n",
    "    'object',\n",
    "    'liwc'\n",
    "]\n",
    "df3['baseline']=.5\n",
    "df3['resample']=True"
   ]
  },
  {
   "cell_type": "code",
   "execution_count": 10,
   "metadata": {},
   "outputs": [],
   "source": [
    "df4=pd.read_excel(\n",
    "    \"/Users/loc_nguyen/Downloads/Book2.xlsx\",sheet_name='under_sampling'\n",
    ")\n",
    "df4.columns=[\n",
    "    'model',\n",
    "    'agg',\n",
    "    'audio',\n",
    "    'scene',\n",
    "    'place',\n",
    "    'object',\n",
    "    'liwc'\n",
    "]\n",
    "df4['baseline']=.5\n",
    "df4['resample']=False"
   ]
  },
  {
   "cell_type": "code",
   "execution_count": 11,
   "metadata": {},
   "outputs": [],
   "source": [
    "df_combine=pd.concat([df3,df4])\n",
    "# df_combine=pd.concat([df1,df2,df3,df4])"
   ]
  },
  {
   "cell_type": "code",
   "execution_count": 12,
   "metadata": {},
   "outputs": [
    {
     "data": {
      "text/plain": [
       "model\n",
       "kn    0.224622\n",
       "lr    0.222747\n",
       "rf    0.242427\n",
       "dtype: float64"
      ]
     },
     "execution_count": 12,
     "metadata": {},
     "output_type": "execute_result"
    }
   ],
   "source": [
    "val=df_combine.pivot_table(\n",
    "    index='model',\n",
    "    aggfunc='mean',\n",
    "    values=['audio','object','scene','place','liwc']\n",
    ").mean(axis=1)\n",
    "(val-.5)/.5"
   ]
  },
  {
   "cell_type": "code",
   "execution_count": 8,
   "metadata": {},
   "outputs": [
    {
     "data": {
      "text/plain": [
       "agg\n",
       "F     0.248096\n",
       "S     0.221269\n",
       "TB    0.222319\n",
       "dtype: float64"
      ]
     },
     "execution_count": 8,
     "metadata": {},
     "output_type": "execute_result"
    }
   ],
   "source": [
    "val=df_combine.pivot_table(\n",
    "    index='agg',\n",
    "    aggfunc='mean',\n",
    "    values=['audio','object','scene','place','liwc']\n",
    ").mean(axis=1)\n",
    "(val-.5)/.5"
   ]
  },
  {
   "cell_type": "code",
   "execution_count": 14,
   "metadata": {},
   "outputs": [
    {
     "data": {
      "text/plain": [
       "resample\n",
       "False    0.230654\n",
       "True     0.226085\n",
       "dtype: float64"
      ]
     },
     "execution_count": 14,
     "metadata": {},
     "output_type": "execute_result"
    }
   ],
   "source": [
    "val=df_combine.pivot_table(\n",
    "    index='resample',\n",
    "    aggfunc='mean',\n",
    "    values=['audio','object','scene','place','liwc']\n",
    ").mean(axis=1)\n",
    "(val-pd.Series([0.5,.5]))/pd.Series([0.5,.5])"
   ]
  },
  {
   "cell_type": "code",
   "execution_count": 123,
   "metadata": {},
   "outputs": [
    {
     "data": {
      "text/plain": [
       "resample\n",
       "False    0.825082\n",
       "True     0.614185\n",
       "dtype: float64"
      ]
     },
     "execution_count": 123,
     "metadata": {},
     "output_type": "execute_result"
    }
   ],
   "source": [
    "df_combine.pivot_table(\n",
    "    index='resample',\n",
    "    aggfunc='mean',\n",
    "    values=['audio','object','scene','place','liwc']\n",
    ").mean(axis=1)"
   ]
  },
  {
   "cell_type": "code",
   "execution_count": 16,
   "metadata": {},
   "outputs": [],
   "source": [
    "import matplotlib.pyplot as plt"
   ]
  },
  {
   "cell_type": "code",
   "execution_count": 17,
   "metadata": {},
   "outputs": [],
   "source": [
    "a=[1,.89,.8,.76,.64,.55,.5]"
   ]
  },
  {
   "cell_type": "code",
   "execution_count": 19,
   "metadata": {},
   "outputs": [
    {
     "data": {
      "text/plain": [
       "Text(0, 0.5, 'Average cross cosine similarity')"
      ]
     },
     "execution_count": 19,
     "metadata": {},
     "output_type": "execute_result"
    },
    {
     "data": {
      "image/png": "[encoded data removed]",
      "text/plain": [
       "<Figure size 640x480 with 1 Axes>"
      ]
     },
     "metadata": {},
     "output_type": "display_data"
    }
   ],
   "source": [
    "plt.plot(a)\n",
    "plt.xlabel('Number of continuous frames to consider in a shot')\n",
    "plt.ylabel('Average cross cosine similarity')"
   ]
  },
  {
   "cell_type": "code",
   "execution_count": null,
   "metadata": {},
   "outputs": [],
   "source": []
  }
 ],
 "metadata": {
  "kernelspec": {
   "display_name": "env",
   "language": "python",
   "name": "python3"
  },
  "language_info": {
   "codemirror_mode": {
    "name": "ipython",
    "version": 3
   },
   "file_extension": ".py",
   "mimetype": "text/x-python",
   "name": "python",
   "nbconvert_exporter": "python",
   "pygments_lexer": "ipython3",
   "version": "3.9.6"
  },
  "orig_nbformat": 4
 },
 "nbformat": 4,
 "nbformat_minor": 2
}
